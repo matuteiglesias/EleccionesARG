{
 "cells": [
  {
   "cell_type": "markdown",
   "metadata": {},
   "source": [
    "## Exploracion de datasets"
   ]
  },
  {
   "cell_type": "code",
   "execution_count": 1,
   "metadata": {},
   "outputs": [
    {
     "name": "stderr",
     "output_type": "stream",
     "text": [
      "/home/miglesia/anaconda2/envs/my_pymc_env/lib/python3.6/importlib/_bootstrap.py:219: RuntimeWarning: numpy.dtype size changed, may indicate binary incompatibility. Expected 96, got 88\n",
      "  return f(*args, **kwds)\n",
      "/home/miglesia/anaconda2/envs/my_pymc_env/lib/python3.6/importlib/_bootstrap.py:219: RuntimeWarning: numpy.dtype size changed, may indicate binary incompatibility. Expected 96, got 88\n",
      "  return f(*args, **kwds)\n"
     ]
    }
   ],
   "source": [
    "import pandas as pd\n",
    "import geopandas as gpd\n",
    "\n",
    "import sys\n",
    "sys.path.append(\"./modules/\")\n",
    "\n",
    "from mapbox_tools import df_to_geojson, upload_file\n"
   ]
  },
  {
   "cell_type": "markdown",
   "metadata": {},
   "source": [
    "## Cargar datos"
   ]
  },
  {
   "cell_type": "code",
   "execution_count": 2,
   "metadata": {},
   "outputs": [],
   "source": [
    "by_col = ['dpto_merger_str']\n",
    "# by_col = ['dpto_merger_str', 'circuito']\n",
    "\n",
    "scale = 'pct' #'nc'\n",
    "# VOTOS VOTOS_2015_17_'+by_col[-1][:4]+'.csv'\n",
    "df_votos = pd.read_csv('./VOTOS_2015_17_'+by_col[-1][:4]+'_'+scale+'.csv', header = [0, 1], index_col=list(range(len(by_col) + 1)))\n",
    "df_votos.columns = df_votos.columns.swaplevel()\n",
    "\n",
    "# Concat diferencia\n",
    "diff = df_votos.diff(2, axis = 1)['DN_2017']\n",
    "diff = pd.concat([diff], keys=['Diff_17_15'], axis = 1)\n",
    "df_votos = pd.concat([df_votos, diff], axis = 1)\n",
    "\n",
    "# circuitos\n",
    "df_circu = gpd.read_file('./circuitos/clean').rename(columns = {'PROV_REF_I': 'PROV_REF_ID', 'dpto_merge': 'dpto_merger_str'})\n",
    "\n",
    "if by_col == ['dpto_merger_str']: # por departamentos\n",
    "    df_circu = df_circu.dissolve(by=by_col + ['PROV_REF_ID'])[['geometry']]\n",
    "else:# por circuitos\n",
    "    df_circu = df_circu.set_index(['dpto_merger_str', 'circuito', 'PROV_REF_ID'])[['geometry']]"
   ]
  },
  {
   "cell_type": "code",
   "execution_count": 3,
   "metadata": {},
   "outputs": [],
   "source": [
    "# df_votos[col].to_csv('./diferencia_15_17.csv')"
   ]
  },
  {
   "cell_type": "code",
   "execution_count": 4,
   "metadata": {},
   "outputs": [],
   "source": [
    "# import matplotlib.pyplot as plt\n",
    "# %matplotlib inline\n",
    "\n",
    "# for lista in gdf.columns[:-1]:\n",
    "#     fig, axs = plt.subplots(1, 2, figsize = (16, 12))\n",
    "\n",
    "#     for i in range(2):\n",
    "#         ax = axs[i]\n",
    "# #         full.fillna(0).plot(column = activity, ax = ax, cmap = 'Greens')\n",
    "#         gdf.fillna(gdf.mean()).plot(lista, ax = ax, cmap = 'Reds', vmin = 0, vmax = .4)\n",
    "\n",
    "#         if i == 0: ax.set(xlim = (-64, -56), ylim = (-41.4, -33)); ax.set_title(str(lista)+'\\nProvincia Buenos Aires')\n",
    "#         if i == 1: ax.set(xlim = (-59.2, -57.7), ylim = (-35.4, -33.7)); ax.set_title(str(lista)+'\\nGran Buenos Aires')\n",
    "\n",
    "#         ax.axis('off')\n",
    "#     plt.show()"
   ]
  },
  {
   "cell_type": "code",
   "execution_count": 5,
   "metadata": {
    "scrolled": false
   },
   "outputs": [
    {
     "data": {
      "text/plain": [
       "Index(['DN_2015', 'paso_2017', 'DN_2017', 'Diff_17_15'], dtype='object')"
      ]
     },
     "execution_count": 5,
     "metadata": {},
     "output_type": "execute_result"
    }
   ],
   "source": [
    "df_votos.columns.get_level_values(0).unique()"
   ]
  },
  {
   "cell_type": "code",
   "execution_count": 6,
   "metadata": {},
   "outputs": [],
   "source": [
    "import numpy as np\n",
    "import json\n",
    "\n",
    "for col in df_votos.columns.get_level_values(0).unique():\n",
    "    df = df_votos[col]\n",
    "    gdf = gpd.GeoDataFrame(pd.concat([df, df_circu], axis = 1)).reset_index()\n",
    "#     gdf['coords'] = [[np.vstack(geom.exterior.coords.xy).T.tolist()] if geom.type == 'Polygon' else None for geom in gdf['geometry']] \n",
    "    gdf['coords'] = [[np.vstack(geom.exterior.coords.xy).T.tolist()] if geom.type == 'Polygon' else \n",
    "             [[np.vstack(poly.exterior.coords.xy).T.tolist()] for poly in list(geom)]\n",
    "             for geom in gdf['geometry']]\n",
    "\n",
    "    polys = df_to_geojson(gdf, gdf.drop('geometry', axis = 1).columns, 'Polygon','coords')\n",
    "    with open('./geojson/polys_'+col+'_'+by_col[-1][:4]+'_'+scale+'.geojson', 'w') as outfile:\n",
    "        json.dump(polys, outfile)\n",
    "\n",
    "    df = df_votos[col]\n",
    "    gdf = gpd.GeoDataFrame(pd.concat([df, df_circu], axis = 1)).reset_index()\n",
    "#     gdf['centroid'] = [np.vstack(geom.centroid.xy).T[0].tolist() if geom.type == 'Polygon' else None for geom in gdf['geometry']]\n",
    "    gdf['centroid'] = [np.vstack(geom.centroid.xy).T[0].tolist() for geom in gdf['geometry']]\n",
    "    \n",
    "    points = df_to_geojson(gdf, gdf.drop('geometry', axis = 1).columns, 'Point','centroid')\n",
    "\n",
    "    with open('./geojson/pts_'+col+'_'+by_col[-1][:4]+'_'+scale+'.geojson', 'w') as outfile:\n",
    "        json.dump(points, outfile)"
   ]
  },
  {
   "cell_type": "code",
   "execution_count": 7,
   "metadata": {
    "scrolled": false
   },
   "outputs": [],
   "source": [
    "# # Parece haber indice duplicado en df_circu...\n",
    "\n",
    "# df_circu.shape"
   ]
  },
  {
   "cell_type": "code",
   "execution_count": 8,
   "metadata": {},
   "outputs": [],
   "source": [
    "# df.shape"
   ]
  },
  {
   "cell_type": "code",
   "execution_count": 9,
   "metadata": {},
   "outputs": [
    {
     "name": "stdout",
     "output_type": "stream",
     "text": [
      "polys_Diff_17_15_dpto_cnt\n",
      "pts_paso_2017_dpto_cnt\n",
      "pts_DN_2017_dpto_cnt\n",
      "polys_paso_2017_dpto_pct\n",
      "pts_paso_2017_dpto_pct\n",
      "polys_DN_2015_dpto_cnt\n",
      "pts_Diff_17_15_dpto_pct\n",
      "pts_DN_2015_dpto_pct\n",
      "pts_Diff_17_15_dpto_cnt\n",
      "polys_DN_2017_dpto_cnt\n",
      "polys_DN_2015_dpto_pct\n",
      "polys_paso_2017_dpto_cnt\n",
      "pts_DN_2017_dpto_pct\n",
      "pts_DN_2015_dpto_cnt\n",
      "polys_DN_2017_dpto_pct\n",
      "polys_Diff_17_15_dpto_pct\n"
     ]
    }
   ],
   "source": [
    "import os\n",
    "\n",
    "files = os.listdir('./geojson/')\n",
    "names = [name.split('.')[0] for name in files]\n",
    "\n",
    "for i in range(len(files)):\n",
    "    data = json.load(open('./geojson/'+files[i]))\n",
    "\n",
    "    try:\n",
    "        print(names[i])\n",
    "        upload_file(data, names[i])\n",
    "    except:\n",
    "        pass"
   ]
  },
  {
   "cell_type": "code",
   "execution_count": 10,
   "metadata": {
    "scrolled": false
   },
   "outputs": [
    {
     "data": {
      "text/html": [
       "<div>\n",
       "<style scoped>\n",
       "    .dataframe tbody tr th:only-of-type {\n",
       "        vertical-align: middle;\n",
       "    }\n",
       "\n",
       "    .dataframe tbody tr th {\n",
       "        vertical-align: top;\n",
       "    }\n",
       "\n",
       "    .dataframe thead th {\n",
       "        text-align: right;\n",
       "    }\n",
       "</style>\n",
       "<table border=\"1\" class=\"dataframe\">\n",
       "  <thead>\n",
       "    <tr style=\"text-align: right;\">\n",
       "      <th></th>\n",
       "      <th>dpto_merger_str</th>\n",
       "      <th>PROV_REF_ID</th>\n",
       "      <th>ELECTORES</th>\n",
       "      <th>VOTANTES</th>\n",
       "      <th>CAMBIEMOS</th>\n",
       "      <th>UNIDAD CIUDADANA</th>\n",
       "      <th>1PAIS</th>\n",
       "      <th>VOTOS BLANCOS</th>\n",
       "      <th>FRENTE JUSTICIALISTA</th>\n",
       "      <th>FRENTE DE IZQUIERDA Y DE LOS TRABAJADORES</th>\n",
       "      <th>geometry</th>\n",
       "      <th>centroid</th>\n",
       "    </tr>\n",
       "  </thead>\n",
       "  <tbody>\n",
       "    <tr>\n",
       "      <th>0</th>\n",
       "      <td>adolfo alsina</td>\n",
       "      <td>2</td>\n",
       "      <td>4.47</td>\n",
       "      <td>0.0</td>\n",
       "      <td>7.74</td>\n",
       "      <td>-4.87</td>\n",
       "      <td>-0.69</td>\n",
       "      <td>-6.27</td>\n",
       "      <td>-0.40</td>\n",
       "      <td>-3.54</td>\n",
       "      <td>POLYGON ((-63.10281764190571 -37.6008818043753...</td>\n",
       "      <td>[-63.055289823821475, -37.197557429994475]</td>\n",
       "    </tr>\n",
       "    <tr>\n",
       "      <th>1</th>\n",
       "      <td>adolfo gonzales chaves</td>\n",
       "      <td>2</td>\n",
       "      <td>11.36</td>\n",
       "      <td>0.0</td>\n",
       "      <td>13.71</td>\n",
       "      <td>-6.86</td>\n",
       "      <td>-1.14</td>\n",
       "      <td>-3.80</td>\n",
       "      <td>-12.43</td>\n",
       "      <td>-0.37</td>\n",
       "      <td>POLYGON ((-60.32342881315999 -38.0551746909023...</td>\n",
       "      <td>[-60.250207843566315, -37.96437649324088]</td>\n",
       "    </tr>\n",
       "    <tr>\n",
       "      <th>2</th>\n",
       "      <td>alberti</td>\n",
       "      <td>2</td>\n",
       "      <td>2.92</td>\n",
       "      <td>0.0</td>\n",
       "      <td>7.32</td>\n",
       "      <td>-24.11</td>\n",
       "      <td>-4.82</td>\n",
       "      <td>-6.17</td>\n",
       "      <td>21.88</td>\n",
       "      <td>-26.55</td>\n",
       "      <td>POLYGON ((-60.11076417074991 -35.1868528344024...</td>\n",
       "      <td>[-60.28268574320245, -35.037200608418765]</td>\n",
       "    </tr>\n",
       "    <tr>\n",
       "      <th>3</th>\n",
       "      <td>almirante brown</td>\n",
       "      <td>2</td>\n",
       "      <td>0.54</td>\n",
       "      <td>0.0</td>\n",
       "      <td>6.23</td>\n",
       "      <td>1.99</td>\n",
       "      <td>-9.92</td>\n",
       "      <td>-4.75</td>\n",
       "      <td>2.98</td>\n",
       "      <td>0.30</td>\n",
       "      <td>POLYGON ((-58.34631122304502 -34.8849921564972...</td>\n",
       "      <td>[-58.36738853940925, -34.83556593109211]</td>\n",
       "    </tr>\n",
       "    <tr>\n",
       "      <th>4</th>\n",
       "      <td>avellaneda</td>\n",
       "      <td>2</td>\n",
       "      <td>-0.31</td>\n",
       "      <td>0.0</td>\n",
       "      <td>6.25</td>\n",
       "      <td>2.50</td>\n",
       "      <td>-8.53</td>\n",
       "      <td>-3.21</td>\n",
       "      <td>1.76</td>\n",
       "      <td>2.04</td>\n",
       "      <td>POLYGON ((-58.29698516229212 -34.6935193245150...</td>\n",
       "      <td>[-58.341265417207076, -34.67827318304712]</td>\n",
       "    </tr>\n",
       "  </tbody>\n",
       "</table>\n",
       "</div>"
      ],
      "text/plain": [
       "          dpto_merger_str  PROV_REF_ID  ELECTORES  VOTANTES  CAMBIEMOS  \\\n",
       "0           adolfo alsina            2       4.47       0.0       7.74   \n",
       "1  adolfo gonzales chaves            2      11.36       0.0      13.71   \n",
       "2                 alberti            2       2.92       0.0       7.32   \n",
       "3         almirante brown            2       0.54       0.0       6.23   \n",
       "4              avellaneda            2      -0.31       0.0       6.25   \n",
       "\n",
       "   UNIDAD CIUDADANA  1PAIS  VOTOS BLANCOS  FRENTE JUSTICIALISTA  \\\n",
       "0             -4.87  -0.69          -6.27                 -0.40   \n",
       "1             -6.86  -1.14          -3.80                -12.43   \n",
       "2            -24.11  -4.82          -6.17                 21.88   \n",
       "3              1.99  -9.92          -4.75                  2.98   \n",
       "4              2.50  -8.53          -3.21                  1.76   \n",
       "\n",
       "   FRENTE DE IZQUIERDA Y DE LOS TRABAJADORES  \\\n",
       "0                                      -3.54   \n",
       "1                                      -0.37   \n",
       "2                                     -26.55   \n",
       "3                                       0.30   \n",
       "4                                       2.04   \n",
       "\n",
       "                                            geometry  \\\n",
       "0  POLYGON ((-63.10281764190571 -37.6008818043753...   \n",
       "1  POLYGON ((-60.32342881315999 -38.0551746909023...   \n",
       "2  POLYGON ((-60.11076417074991 -35.1868528344024...   \n",
       "3  POLYGON ((-58.34631122304502 -34.8849921564972...   \n",
       "4  POLYGON ((-58.29698516229212 -34.6935193245150...   \n",
       "\n",
       "                                     centroid  \n",
       "0  [-63.055289823821475, -37.197557429994475]  \n",
       "1   [-60.250207843566315, -37.96437649324088]  \n",
       "2   [-60.28268574320245, -35.037200608418765]  \n",
       "3    [-58.36738853940925, -34.83556593109211]  \n",
       "4   [-58.341265417207076, -34.67827318304712]  "
      ]
     },
     "execution_count": 10,
     "metadata": {},
     "output_type": "execute_result"
    }
   ],
   "source": [
    "gdf.head()"
   ]
  },
  {
   "cell_type": "code",
   "execution_count": null,
   "metadata": {},
   "outputs": [],
   "source": []
  }
 ],
 "metadata": {
  "kernelspec": {
   "display_name": "Python 3",
   "language": "python",
   "name": "python3"
  },
  "language_info": {
   "codemirror_mode": {
    "name": "ipython",
    "version": 3
   },
   "file_extension": ".py",
   "mimetype": "text/x-python",
   "name": "python",
   "nbconvert_exporter": "python",
   "pygments_lexer": "ipython3",
   "version": "3.6.7"
  }
 },
 "nbformat": 4,
 "nbformat_minor": 2
}
